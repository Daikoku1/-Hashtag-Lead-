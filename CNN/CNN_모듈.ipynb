{
 "cells": [
  {
   "cell_type": "code",
   "execution_count": 0,
   "metadata": {
    "colab": {},
    "colab_type": "code",
    "id": "sc1qt6S7GI0V"
   },
   "outputs": [],
   "source": [
    "from PIL import Image\n",
    "from PIL import ImageFile\n",
    "ImageFile.LOAD_TRUNCATED_IMAGES = True\n",
    "import numpy as np\n",
    "import tensorflow as tf\n",
    "class CNN_insta:\n",
    "\n",
    "    def __init__(self, file, model = '/content/drive/My Drive/Data/cnn_insta_fit.h5'):\n",
    "        self.model = model\n",
    "        self.file = file\n",
    "\n",
    "    def image_to_numpy(self):\n",
    "        categories = [\"eat\", \"cat\", \"cloth\"]\n",
    "        image_w = 32\n",
    "        image_h = 32\n",
    "        X = []\n",
    "\n",
    "        img = Image.open(self.file)\n",
    "        img = img.convert(\"RGB\")\n",
    "        img = img.resize((image_w, image_h))\n",
    "        data = np.asarray(img) / 255\n",
    "        X.append(data)\n",
    "        X.append(data)\n",
    "        X = np.array(X)\n",
    "        return X\n",
    "\n",
    "    def classify_image(self):\n",
    "        categories = [\"Eat\", \"Cat\", \"Cloth\"]\n",
    "\n",
    "        model = tf.keras.models.load_model(self.model)\n",
    "        y = model.predict_classes(CNN_insta.image_to_numpy(self))\n",
    "        return categories[y[0]]\n",
    "\n",
    "    def recommend_tags(self):\n",
    "        categories = CNN_insta.classify_image(self)\n",
    "        if categories == 'Eat':\n",
    "            return ['맛스타그램','먹스타그램','일상','맛집','데일리','먹방','daily','일상스타그램','food','데일리그램','foodstagram','럽스타그램','인스타그램','푸드스타그램','여행','홍대','주말','instafood','먹스타','jmt'],['과자','아가리어터','후기','리뷰','디엠','과자스타그램','친구스타그램','서면술집추천','남매스타그램','그집뱃살','중마동카페','순천마카롱','중마동마카롱','맛있게먹으면0칼로리','광양카페','인스타사','순천카페','홍대카페','흑돼지','봄']\n",
    "        elif categories == 'Cat':\n",
    "            return ['집사스타그램','냥스타그램','고양이','cat','catstagram','집사','캣스타그램','반려묘','일상','고양이그램','고양이스타그램','개냥이','냥이','미묘','집사그램','데일리','daily','아깽이','반려동물','사지말고입양하세요'],['감자스타그램','꽃으로도때리지마세요','photography','치즈코숏','댕냥이','해피펫아카데미','뉴스1','halloween','집사님맞팔','야생동물','nekostagram','맹수','dogs','반려동물여행','먼치킨나폴레옹','엑죠틱','해피펫','집스타그램','해운대','꽃집고양이']\n",
    "        else:\n",
    "            return ['데일리룩','ootd','일상','오오티디','데일리','셀카','패션','셀스타그램','셀피','패션스타그램','daily','dailylook','얼스타그램','selfie','fashion','데일리코디','코디','옷','스타일'],['남자가을옷','팔찌','btsarmy','silver','20대여자쇼핑몰','indonesia','여주','커플링','着画','旅行','スタイル','화이트','美容','woman','일산옷가게','패딩조끼','목걸이','반지','스톤아일랜드패딩','корейскиймакияж']"
   ]
  },
  {
   "cell_type": "code",
   "execution_count": 0,
   "metadata": {
    "colab": {},
    "colab_type": "code",
    "id": "BJIlRCPGGUGh"
   },
   "outputs": [],
   "source": [
    "class_insta = CNN_insta('/content/drive/My Drive/Data/1178.png')"
   ]
  },
  {
   "cell_type": "code",
   "execution_count": 0,
   "metadata": {
    "colab": {
     "base_uri": "https://localhost:8080/",
     "height": 737
    },
    "colab_type": "code",
    "id": "j5LFu4DLMmkb",
    "outputId": "ef0057d4-4655-4677-b622-eb03acfc01a0"
   },
   "outputs": [
    {
     "data": {
      "text/plain": [
       "(['집사스타그램',\n",
       "  '냥스타그램',\n",
       "  '고양이',\n",
       "  'cat',\n",
       "  'catstagram',\n",
       "  '집사',\n",
       "  '캣스타그램',\n",
       "  '반려묘',\n",
       "  '일상',\n",
       "  '고양이그램',\n",
       "  '고양이스타그램',\n",
       "  '개냥이',\n",
       "  '냥이',\n",
       "  '미묘',\n",
       "  '집사그램',\n",
       "  '데일리',\n",
       "  'daily',\n",
       "  '아깽이',\n",
       "  '반려동물',\n",
       "  '사지말고입양하세요'],\n",
       " ['감자스타그램',\n",
       "  '꽃으로도때리지마세요',\n",
       "  'photography',\n",
       "  '치즈코숏',\n",
       "  '댕냥이',\n",
       "  '해피펫아카데미',\n",
       "  '뉴스1',\n",
       "  'halloween',\n",
       "  '집사님맞팔',\n",
       "  '야생동물',\n",
       "  'nekostagram',\n",
       "  '맹수',\n",
       "  'dogs',\n",
       "  '반려동물여행',\n",
       "  '먼치킨나폴레옹',\n",
       "  '엑죠틱',\n",
       "  '해피펫',\n",
       "  '집스타그램',\n",
       "  '해운대',\n",
       "  '꽃집고양이'])"
      ]
     },
     "execution_count": 10,
     "metadata": {
      "tags": []
     },
     "output_type": "execute_result"
    }
   ],
   "source": [
    "class_insta.recommend_tags()"
   ]
  }
 ],
 "metadata": {
  "colab": {
   "collapsed_sections": [],
   "name": "인스타_모듈화.ipynb",
   "provenance": [],
   "toc_visible": true
  },
  "kernelspec": {
   "display_name": "Python 3",
   "language": "python",
   "name": "python3"
  },
  "language_info": {
   "codemirror_mode": {
    "name": "ipython",
    "version": 3
   },
   "file_extension": ".py",
   "mimetype": "text/x-python",
   "name": "python",
   "nbconvert_exporter": "python",
   "pygments_lexer": "ipython3",
   "version": "3.7.3"
  }
 },
 "nbformat": 4,
 "nbformat_minor": 1
}
